{
    "cells": [
        {
            "cell_type": "markdown",
            "metadata": {
                "collapsed": true
            },
            "source": "## Introduction\n\nThe objective of this project is to demonstrate the technical skills acquired through the courses for the IBM Data Science Professional Certificate available at Coursera.\n\nThe certification comprised nine coursers where the Data Science basic concepts, tools and methologies were presented, as well as how to develop data science projects using databases, SQL, and Python to analyse data, present data, and also how to use Python for Machine Learning.\n\nDuring the course, several labs and projects were completed to practice and demonstrate the knowledge obteined.\n\nAs a final assignment, the capstone for this certification is to define and solve a problem that requires location data and the Foursquare API to be solved.\n\n### Business Problem\n\nAn investor located in Birmingham is currently interest in adding a restaurant to his assets list. \nHe is aware of a few enterpreneurs looking to open new restaurants and in order to support his choce in choosing the right project, he would like to know:\n\n- What cuisines he should look into investing\n- What neighborhood would be the best to open a new restaurant\n\n### Data\n\nList of neighborhoods in Birmingham: https://en.wikipedia.org/wiki/List_of_neighbourhoods_of_Birmingham\nFoursquare API"
        },
        {
            "cell_type": "code",
            "execution_count": null,
            "metadata": {},
            "outputs": [],
            "source": ""
        }
    ],
    "metadata": {
        "kernelspec": {
            "display_name": "Python 3.6",
            "language": "python",
            "name": "python3"
        },
        "language_info": {
            "codemirror_mode": {
                "name": "ipython",
                "version": 3
            },
            "file_extension": ".py",
            "mimetype": "text/x-python",
            "name": "python",
            "nbconvert_exporter": "python",
            "pygments_lexer": "ipython3",
            "version": "3.6.9"
        }
    },
    "nbformat": 4,
    "nbformat_minor": 1
}